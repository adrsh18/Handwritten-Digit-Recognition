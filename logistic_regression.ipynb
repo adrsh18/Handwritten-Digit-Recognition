{
 "cells": [
  {
   "cell_type": "code",
   "execution_count": 1,
   "metadata": {
    "collapsed": false
   },
   "outputs": [
    {
     "name": "stdout",
     "output_type": "stream",
     "text": [
      "Data Loaded\n"
     ]
    }
   ],
   "source": [
    "import cPickle\n",
    "import gzip\n",
    "import numpy as np\n",
    "\n",
    "data_file = gzip.open('mnist.pkl.gz','rb')\n",
    "train, test, validation = cPickle.load(data_file)\n",
    "\n",
    "train_features = train[0]\n",
    "train_labels = train[1]\n",
    "\n",
    "test_features = test[0]\n",
    "test_labels = test[1]\n",
    "\n",
    "validation_features = validation[0]\n",
    "validation_labels = validation[1]\n",
    "\n",
    "usps_file = gzip.open('usps_data.pkl.gz','rb')\n",
    "usps_features,usps_labels = cPickle.load(usps_file)\n",
    "\n",
    "print \"Data Loaded\""
   ]
  },
  {
   "cell_type": "code",
   "execution_count": 2,
   "metadata": {
    "collapsed": true
   },
   "outputs": [],
   "source": [
    "import numpy as np\n",
    "\n",
    "class LogisticRegression:\n",
    "    \n",
    "    def __init__(self, X, Y, alpha, regularizer=0.001):\n",
    "        self.X = X\n",
    "        self.Y = Y\n",
    "        self.regularizer = regularizer\n",
    "        self.__oneHotEncode()\n",
    "        self.__initializeWeights()\n",
    "        self.alpha = alpha\n",
    "    \n",
    "    def __oneHotEncode(self):\n",
    "        encoded_Y = np.zeros((self.Y.size, self.Y.max()+1), dtype=self.Y.dtype)\n",
    "        encoded_Y[np.arange(self.Y.size), self.Y] = 1\n",
    "        self.Y = encoded_Y\n",
    "    \n",
    "    def __initializeWeights(self):\n",
    "        np.random.seed(0)\n",
    "        self.W = np.zeros((self.Y.shape[1], self.X.shape[1]))\n",
    "        #self.W = np.random.randn(self.Y.shape[1], self.X.shape[1]) / np.sqrt(self.Y.shape[1])\n",
    "    \n",
    "    def __cost(self, hypothesis_result):\n",
    "        num_samples = self.X.shape[0]\n",
    "        term_one = -1.0 * np.sum(self.Y*np.log(hypothesis_result)) / num_samples\n",
    "        return term_one + ((self.regularizer/2) * np.sum(self.W * self.W)) \n",
    "    \n",
    "    def __gradient(self, hypothesis_result):\n",
    "        num_samples = self.X.shape[0]\n",
    "        term_one = self.Y - hypothesis_result\n",
    "        term_two = -1.0 * term_one.T.dot(self.X) / num_samples\n",
    "        return term_two + (self.regularizer * self.W)\n",
    "    \n",
    "    def __hypothesis(self):\n",
    "        product = self.X.dot(self.W.T)\n",
    "        numerator = np.exp(product)\n",
    "        denominator = np.sum(numerator,axis=1).reshape(numerator.shape[0],1)\n",
    "        return numerator / denominator\n",
    "    \n",
    "    def fit(self, max_steps=250, return_cost_progress=False):\n",
    "        if return_cost_progress:\n",
    "            cost_progress = np.zeros((max_steps, 2))\n",
    "        step_counter = 0\n",
    "        while step_counter < max_steps:\n",
    "            hypothesis_result = self.__hypothesis()\n",
    "            self.W = self.W - self.alpha * self.__gradient(hypothesis_result)\n",
    "            if return_cost_progress:\n",
    "                cost_progress[step_counter][0] = step_counter\n",
    "                cost_progress[step_counter][1] = self.__cost(hypothesis_result)\n",
    "            if step_counter % 250 == 0:\n",
    "                print \"Step: \", step_counter\n",
    "            step_counter += 1\n",
    "        if return_cost_progress:\n",
    "            return cost_progress\n",
    "        else:\n",
    "            return\n",
    "    \n",
    "    def predict(self, X_test):\n",
    "        if X_test.shape[1] != self.X.shape[1]:\n",
    "            print \"Number of features in test data and training data do not match!\"\n",
    "            raise\n",
    "        return np.argmax(X_test.dot(self.W.T), axis=1)\n",
    "    \n",
    "    def error(self, Y_pred, Y_actual):\n",
    "        num_wrong = Y_pred[Y_pred != Y_actual].size\n",
    "        num_total = Y_pred.size\n",
    "        return 1.0*num_wrong / num_total\n",
    "    \n",
    "    def accuracy(self, Y_pred, Y_actual):\n",
    "        num_right = Y_pred[Y_pred == Y_actual].size\n",
    "        num_total = Y_pred.size\n",
    "        return 1.0*num_right / num_total\n"
   ]
  },
  {
   "cell_type": "code",
   "execution_count": 3,
   "metadata": {
    "collapsed": false
   },
   "outputs": [
    {
     "name": "stdout",
     "output_type": "stream",
     "text": [
      "Step:  0\n",
      "Step:  250\n",
      "Step:  500\n",
      "Step:  750\n",
      "Step:  1000\n",
      "Step:  1250\n",
      "Step:  1500\n",
      "Step:  1750\n",
      "Done in  1335.937 s\n",
      "Test Error:  0.0753\n",
      "Test Accuracy:  0.9247\n",
      "Validation Error:  0.0789\n",
      "Validation Accuracy:  0.9211\n",
      "USPS Error:  0.418170908545\n",
      "USPS Accuracy:  0.581829091455\n"
     ]
    },
    {
     "data": {
      "text/plain": [
       "[<matplotlib.lines.Line2D at 0x1d335f98>]"
      ]
     },
     "execution_count": 3,
     "metadata": {},
     "output_type": "execute_result"
    },
    {
     "data": {
      "image/png": "[encoded data removed]",
      "text/plain": [
       "<matplotlib.figure.Figure at 0x6655470>"
      ]
     },
     "metadata": {},
     "output_type": "display_data"
    }
   ],
   "source": [
    "from time import time\n",
    "\n",
    "logistic = LogisticRegression(train_features, train_labels, 0.5,0.0003)\n",
    "tt = time()\n",
    "cost_progress = logistic.fit(2000, return_cost_progress=True)\n",
    "print \"Done in \",round(time()-tt, 3),\"s\"\n",
    "\n",
    "test_pred_labels = logistic.predict(test_features)\n",
    "test_err = logistic.error(test_pred_labels, test_labels)\n",
    "test_acc = logistic.accuracy(test_pred_labels, test_labels)\n",
    "print \"Test Error: \",test_err\n",
    "print \"Test Accuracy: \",test_acc\n",
    "\n",
    "validation_pred_labels = logistic.predict(validation_features)\n",
    "validation_err = logistic.error(validation_pred_labels, validation_labels)\n",
    "validation_acc = logistic.accuracy(validation_pred_labels, validation_labels)\n",
    "print \"Validation Error: \",validation_err\n",
    "print \"Validation Accuracy: \",validation_acc\n",
    "\n",
    "usps_pred_labels = logistic.predict(usps_features)\n",
    "usps_err = logistic.error(usps_pred_labels, usps_labels)\n",
    "usps_acc = logistic.accuracy(usps_pred_labels, usps_labels)\n",
    "print \"USPS Error: \",usps_err\n",
    "print \"USPS Accuracy: \",usps_acc\n",
    "\n",
    "%matplotlib inline\n",
    "\n",
    "import matplotlib.pyplot as plt\n",
    "\n",
    "plt.plot(cost_progress[:,0], cost_progress[:,1])"
   ]
  },
  {
   "cell_type": "code",
   "execution_count": null,
   "metadata": {
    "collapsed": true
   },
   "outputs": [],
   "source": []
  }
 ],
 "metadata": {
  "anaconda-cloud": {},
  "kernelspec": {
   "display_name": "Python [default]",
   "language": "python",
   "name": "python2"
  },
  "language_info": {
   "codemirror_mode": {
    "name": "ipython",
    "version": 2
   },
   "file_extension": ".py",
   "mimetype": "text/x-python",
   "name": "python",
   "nbconvert_exporter": "python",
   "pygments_lexer": "ipython2",
   "version": "2.7.12"
  }
 },
 "nbformat": 4,
 "nbformat_minor": 1
}
