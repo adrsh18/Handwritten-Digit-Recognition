{
 "cells": [
  {
   "cell_type": "code",
   "execution_count": 6,
   "metadata": {
    "collapsed": false
   },
   "outputs": [
    {
     "name": "stdout",
     "output_type": "stream",
     "text": [
      "Data Loaded\n"
     ]
    }
   ],
   "source": [
    "import cPickle\n",
    "import gzip\n",
    "import numpy as np\n",
    "\n",
    "data_file = gzip.open('mnist.pkl.gz','rb')\n",
    "train, test, validation = cPickle.load(data_file)\n",
    "\n",
    "train_features = train[0]\n",
    "train_labels = train[1]\n",
    "\n",
    "test_features = test[0]\n",
    "test_labels = test[1]\n",
    "\n",
    "validation_features = validation[0]\n",
    "validation_labels = validation[1]\n",
    "\n",
    "usps_file = gzip.open('usps_data.pkl.gz','rb')\n",
    "usps_features,usps_labels = cPickle.load(usps_file)\n",
    "\n",
    "print \"Data Loaded\""
   ]
  },
  {
   "cell_type": "code",
   "execution_count": 7,
   "metadata": {
    "collapsed": false
   },
   "outputs": [
    {
     "name": "stdout",
     "output_type": "stream",
     "text": [
      "Training data shuffled\n"
     ]
    }
   ],
   "source": [
    "train_all = np.hstack([train_features, train_labels.reshape(len(train_labels),1)])\n",
    "np.random.shuffle(train_all)\n",
    "\n",
    "train_features=train_all[:,:train[0].shape[1]]\n",
    "train_labels = train_all[:,train[0].shape[1]].astype(train[1].dtype)\n",
    "\n",
    "print \"Training data shuffled\""
   ]
  },
  {
   "cell_type": "code",
   "execution_count": 8,
   "metadata": {
    "collapsed": true
   },
   "outputs": [],
   "source": [
    "import numpy as np\n",
    "\n",
    "class SimpleNN:\n",
    "    \n",
    "    def __init__(self, X, Y, alpha=0.001, regularizer=0.0):\n",
    "        self.X = X\n",
    "        self.Y = Y\n",
    "        self.alpha = alpha\n",
    "        self.regularizer = regularizer\n",
    "        self.layer_one_weights = None\n",
    "        self.layer_two_weights = None\n",
    "        self.layer_two_z = None\n",
    "        self.layer_three_z = None\n",
    "        self.layer_two_a = None\n",
    "        self.layer_three_a = None\n",
    "        self.layer_two_delta = None\n",
    "        self.layer_three_delta = None\n",
    "        self.__initX()\n",
    "        self.__oneHotEncodeY()\n",
    "        self.__initWeights()\n",
    "    \n",
    "    def __initX(self):\n",
    "        x0 = np.ones((self.X.shape[0],1)).astype(self.X.dtype)\n",
    "        self.X = np.hstack([x0,self.X])\n",
    "        \n",
    "    def __initWeights(self):\n",
    "        self.layer_one_weights = np.random.normal(loc=0, scale=(1.0/self.X.shape[1]**(0.5)), size=(self.X.shape[1], self.X.shape[1]+1))\n",
    "        #self.layer_one_weights = np.random.uniform(low=-0.012, high=0.012, size=(self.X.shape[1], self.X.shape[1]+1))\n",
    "        #self.layer_two_weights = np.random.uniform(low=-0.012, high=0.012, size=(self.layer_one_weights.shape[1], self.Y.shape[1]))\n",
    "        self.layer_two_weights = np.random.uniform(size=(self.layer_one_weights.shape[1], self.Y.shape[1])) / np.sqrt(self.layer_one_weights.shape[1])\n",
    "        \n",
    "    def __softmax(self,x):\n",
    "        #x[x>=0] *= -1.0\n",
    "        z = np.exp(x)\n",
    "        return z / np.sum(z,axis=1,keepdims=True)\n",
    "    \n",
    "    def __oneHotEncodeY(self):\n",
    "        encoded_Y = np.zeros((self.Y.size, self.Y.max()+1), dtype=self.Y.dtype)\n",
    "        encoded_Y[np.arange(self.Y.size), self.Y] = 1\n",
    "        self.Y = encoded_Y\n",
    "    \n",
    "    def __oneHotEncode(self, vector):\n",
    "        encoded_vector = np.zeros((vector.size, vector.max()+1), dtype=vector.dtype)\n",
    "        encoded_vector[np.arange(vector.size), vector] = 1\n",
    "        return encoded_vector\n",
    "    \n",
    "    def __cost(self):\n",
    "        num_samples = self.X.shape[0]\n",
    "        term_one = -1.0 * np.sum(self.Y*np.log(self.layer_three_a)) / num_samples\n",
    "        return term_one + ((self.regularizer/2) * (np.sum(self.layer_one_weights * self.layer_one_weights)+np.sum(self.layer_two_weights * self.layer_two_weights)))\n",
    "    \n",
    "    def __forward(self):\n",
    "        self.layer_two_z = self.X.dot(self.layer_one_weights)\n",
    "        self.layer_two_a = np.tanh(self.layer_two_z)\n",
    "        self.layer_three_z = self.layer_two_a.dot(self.layer_two_weights)\n",
    "        self.layer_three_a = self.__softmax(self.layer_three_z)\n",
    "        \n",
    "    def __backward(self):\n",
    "        self.layer_three_delta = self.layer_three_a - self.Y\n",
    "        derivative = (1.0 - self.layer_two_z * self.layer_two_z)\n",
    "        self.layer_two_delta = self.layer_three_delta.dot(self.layer_two_weights.T) * derivative\n",
    "        \n",
    "        layer_one_weights_gradient = self.X.T.dot(self.layer_two_delta) / self.X.shape[0]\n",
    "        layer_two_weights_gradient = self.layer_two_z.T.dot(self.layer_three_delta) / self.X.shape[0]\n",
    "        \n",
    "        layer_one_weights_gradient += self.regularizer * self.layer_one_weights / self.X.shape[0]\n",
    "        layer_two_weights_gradient += self.regularizer * self.layer_two_weights / self.X.shape[0]\n",
    "        \n",
    "        self.layer_one_weights += -self.alpha * layer_one_weights_gradient\n",
    "        self.layer_two_weights += -self.alpha * layer_two_weights_gradient\n",
    "        \n",
    "    def train(self, epochs=50, status_epochs=10, return_cost_progress=False):\n",
    "        if return_cost_progress:\n",
    "            cost_progress = np.zeros((epochs, 2))\n",
    "        train_features_batches = np.array_split(self.X, 1)\n",
    "        train_labels_batches = np.array_split(self.Y, 1)\n",
    "        current_epoch = 0\n",
    "        while current_epoch < epochs:\n",
    "            for b in range(len(train_features_batches)):\n",
    "                self.X = train_features_batches[b]\n",
    "                self.Y = train_labels_batches[b]\n",
    "                self.__forward()\n",
    "                self.__backward()\n",
    "            \n",
    "            if return_cost_progress:\n",
    "                cost_progress[current_epoch][0] = current_epoch\n",
    "                cost_progress[current_epoch][1] = self.__cost()\n",
    "            \n",
    "            if current_epoch % status_epochs == 0:\n",
    "                print \"Epoch \", current_epoch\n",
    "                #print \"W1: \",self.layer_one_weights[:10,:10]\n",
    "                #print \"W2: \",self.layer_two_weights[:10,:10]\n",
    "            current_epoch += 1\n",
    "        if return_cost_progress:\n",
    "            return cost_progress\n",
    "        else:\n",
    "            return\n",
    "        \n",
    "    def predict(self, X):\n",
    "        x0 = np.ones((X.shape[0],1)).astype(X.dtype)\n",
    "        X_test = np.hstack([x0,np.copy(X)])\n",
    "        if X_test.shape[1] != self.X.shape[1]:\n",
    "            print \"Number of features in test data and training data do not match!\"\n",
    "            print \"\"\n",
    "        self.layer_two_z = X_test.dot(self.layer_one_weights)\n",
    "        self.layer_two_a = np.tanh(self.layer_two_z)\n",
    "        self.layer_three_z = self.layer_two_a.dot(self.layer_two_weights)\n",
    "        numerator = np.exp(self.layer_three_z)\n",
    "        denominator = np.sum(numerator, axis=1, keepdims=True)\n",
    "        return np.argmax(numerator/denominator, axis=1)\n",
    "        \n",
    "    def error(self, Y_pred, Y_actual):\n",
    "        num_wrong = Y_pred[Y_pred != Y_actual].size\n",
    "        num_total = Y_pred.size\n",
    "        return 1.0*num_wrong / num_total\n",
    "    \n",
    "    def accuracy(self, Y_pred, Y_actual):\n",
    "        num_right = Y_pred[Y_pred == Y_actual].size\n",
    "        num_total = Y_pred.size\n",
    "        return 1.0*num_right / num_total\n"
   ]
  },
  {
   "cell_type": "code",
   "execution_count": 9,
   "metadata": {
    "collapsed": false
   },
   "outputs": [
    {
     "name": "stdout",
     "output_type": "stream",
     "text": [
      "Epoch  0\n",
      "Epoch  10\n",
      "Epoch  20\n",
      "Epoch  30\n",
      "Epoch  40\n",
      "Epoch  50\n",
      "Epoch  60\n",
      "Epoch  70\n",
      "Epoch  80\n",
      "Epoch  90\n",
      "Epoch  100\n",
      "Epoch  110\n",
      "Epoch  120\n",
      "Epoch  130\n",
      "Epoch  140\n",
      "Epoch  150\n",
      "Epoch  160\n",
      "Epoch  170\n",
      "Epoch  180\n",
      "Epoch  190\n",
      "Epoch  200\n",
      "Epoch  210\n",
      "Epoch  220\n",
      "Epoch  230\n",
      "Epoch  240\n",
      "Epoch  250\n",
      "Epoch  260\n",
      "Epoch  270\n",
      "Epoch  280\n",
      "Epoch  290\n",
      "Trained in  1082.68  seconds\n",
      "Test Error:  0.0819\n",
      "Test Accuracy:  0.9181\n",
      "Validation Error:  0.0832\n",
      "Validation Accuracy:  0.9168\n",
      "USPS Error:  0.435121756088\n",
      "USPS Accuracy:  0.564878243912\n"
     ]
    },
    {
     "data": {
      "image/png": "[encoded data removed]",
      "text/plain": [
       "<matplotlib.figure.Figure at 0x1d5a6c50>"
      ]
     },
     "metadata": {},
     "output_type": "display_data"
    }
   ],
   "source": [
    "from time import time\n",
    "\n",
    "simple_nn = SimpleNN(train_features, train_labels, 0.2)\n",
    "t_nn = time()\n",
    "cost_progress = simple_nn.train(300,10,return_cost_progress=True)\n",
    "print \"Trained in \", round(time()-t_nn,2),\" seconds\"\n",
    "\n",
    "'''\n",
    "print \"Predicted Labels: \", pred_labels[:10]\n",
    "print \"Actual Labels: \", test_labels[:10]\n",
    "'''\n",
    "pred_labels = simple_nn.predict(test_features)\n",
    "err = simple_nn.error(pred_labels, test_labels)\n",
    "print \"Test Error: \",err\n",
    "acc = simple_nn.accuracy(pred_labels, test_labels)\n",
    "print \"Test Accuracy: \",acc\n",
    "\n",
    "v_pred_labels = simple_nn.predict(validation_features)\n",
    "v_err = simple_nn.error(v_pred_labels, validation_labels)\n",
    "print \"Validation Error: \",v_err\n",
    "v_acc = simple_nn.accuracy(v_pred_labels, validation_labels)\n",
    "print \"Validation Accuracy: \",v_acc\n",
    "\n",
    "usps_pred_labels = simple_nn.predict(usps_features)\n",
    "usps_err = simple_nn.error(usps_pred_labels, usps_labels)\n",
    "usps_acc = simple_nn.accuracy(usps_pred_labels, usps_labels)\n",
    "print \"USPS Error: \",usps_err\n",
    "print \"USPS Accuracy: \",usps_acc\n",
    "\n",
    "%matplotlib inline\n",
    "\n",
    "import matplotlib.pyplot as plt\n",
    "\n",
    "plt.plot(cost_progress[:,0], cost_progress[:,1])\n",
    "plt.xlabel('Training Iterations')\n",
    "plt.ylabel('Cost')\n",
    "plt.show()"
   ]
  },
  {
   "cell_type": "code",
   "execution_count": null,
   "metadata": {
    "collapsed": true
   },
   "outputs": [],
   "source": []
  }
 ],
 "metadata": {
  "anaconda-cloud": {},
  "kernelspec": {
   "display_name": "Python 2",
   "language": "python",
   "name": "python2"
  },
  "language_info": {
   "codemirror_mode": {
    "name": "ipython",
    "version": 2
   },
   "file_extension": ".py",
   "mimetype": "text/x-python",
   "name": "python",
   "nbconvert_exporter": "python",
   "pygments_lexer": "ipython2",
   "version": "2.7.12"
  }
 },
 "nbformat": 4,
 "nbformat_minor": 1
}
